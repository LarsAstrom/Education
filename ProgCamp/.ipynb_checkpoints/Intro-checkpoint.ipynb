{
 "cells": [
  {
   "cell_type": "markdown",
   "metadata": {},
   "source": [
    "# Introduktion till tävlingsprogrammering\n",
    "\n",
    "## Plan för föreläsningen:\n",
    "0. Förkunskaper och introduktion av mig\n",
    "1. Introduktion\n",
    "2. Skapa konton som behövs\n",
    "3. Lösa problem tillsammans\n",
    "4. Testa lösa problem själv"
   ]
  },
  {
   "cell_type": "markdown",
   "metadata": {},
   "source": [
    "### Vem är jag?\n",
    "-  Lars Åström\n",
    "-  Studerar till civilingenjör inom teknisk matematik på LTH (1 år kvar)\n",
    "-  Tävlade i matte under gymnasiet\n",
    "-  Tävlar i programmering nu"
   ]
  },
  {
   "cell_type": "markdown",
   "metadata": {},
   "source": [
    "### Förkunskaper?\n",
    "-  Hur många har programmerat tidigare?\n",
    "-  Hur många har gjort någon tävling?\n",
    "-  Vilket/vilka språk har ni använt?\n",
    "-  Java? C++? Python? C? C#? Javascript? Fler?\n",
    "\n",
    "Om vi visar i ett språk ni inte är vana vid och det är något ni inte förstår vad det gör - FRÅGA direkt! (Gäller även om vi visar i ett språk ni är vana vid såklart!) Då kan alla föreläsare ofta översätta till ert språk, eller förklara vad det gör."
   ]
  },
  {
   "cell_type": "markdown",
   "metadata": {},
   "source": [
    "## Vad är programmering?\n",
    "-  Få en dator att lösa problem\n",
    "-  Ofta med hjälp av algoritmer\n",
    "\n",
    "### Exempel på vad man kan göra som programmerare?\n",
    "-  Utveckla Googles produkter (Johan Sannemo)\n",
    "-  Se till att filmning fungerar och sätta ihop till full film vid hjärtoperationer (Måns Magnusson)\n",
    "-  En app som hjälper diabetiker att mäta blodsocker (Måns Magnusson)\n",
    "-  Programmera robotar att göra något visst (Maj Stenmark)\n",
    "\n",
    "## Vad är TÄVLINGSprogrammering?\n",
    "-  Lösa algoritmiska problem, på begränsad tid. \n",
    "-  Problembeskrivning, input, output\n",
    "-  Mycket problemlösning!\n",
    "\n",
    "### Varför hålla på med tävlingsprogrammering?\n",
    "-  Det är roligt!\n",
    "-  Man får använda problemlösning och tävla\n",
    "-  Man lär sig programmera\n",
    "-  Det är en bra erfarenhet (i varje fall verkar stora företag tycka det)\n",
    "\n",
    "### Hur tävlingsprogrammerar man?\n",
    "-  Man har en dator (ofta med tillgång till internet, etc)\n",
    "-  3-10 problem att lösa\n",
    "-  2-5 timmar att lösa dem\n",
    "\n",
    "#### Hur löser man ett specifikt problem?\n",
    "1. Läsa och förstå problemet\n",
    "2. Läsa in problemet i datorn\n",
    "3. Komma på en lösning\n",
    "    -  Använda algoritmer man kan\n",
    "    -  Använda matematik man kan\n",
    "4. Få datorn att utföra lösningen (implementera lösningen)\n",
    "5. Skriva ut resultatet.\n",
    "\n",
    "#### Vad händer när man har löst ett problem?\n",
    "-  Man skickar in lösningen\n",
    "-  Lösningen rättas direkt (testas på många instanser av problemet, man måste klara alla!)\n",
    "-  Man får svar på hur det gick:\n",
    "    -  Accepted\n",
    "    -  Wrong answer\n",
    "    -  Time-limit exceeded\n",
    "    -  Run-time error\n",
    "    -  Memory-limit exceeded\n",
    "    \n",
    "\n",
    "## Kattis och Codeforces\n",
    "-  Vi ska nu introducera Kattis och Codeforces, som är två stora tävlingssiter.\n",
    "-  Codeforces bara visar vi, medan vi kommer använda Kattis hela helgen.\n",
    "-  http://codeforces.com/\n",
    "-  Två typer av Kattis - PO och open\n",
    "-  Behövs två inloggningar, nu ska alla fixa det!\n",
    "-  https://open.kattis.com/\n",
    "-  https://po.kattis.com/"
   ]
  },
  {
   "cell_type": "markdown",
   "metadata": {},
   "source": [
    "## Lösa problem tillsammans\n",
    "-  Om man vill skriva kod själv är det ok, behövs inte!"
   ]
  },
  {
   "cell_type": "markdown",
   "metadata": {},
   "source": [
    "### Problem 1: Tarifa\n",
    "\n",
    "https://open.kattis.com/problems/tarifa"
   ]
  },
  {
   "cell_type": "markdown",
   "metadata": {},
   "source": [
    "Vad behöver vi nu använda? \n",
    "-  Om vi använder $A$ megabytes kommer $X-A$ att sparas\n",
    "-  Vi måste hålla reda på hur mycket som är sparat"
   ]
  },
  {
   "cell_type": "code",
   "execution_count": null,
   "metadata": {},
   "outputs": [],
   "source": [
    "X = int(input())\n",
    "N = int(input())\n",
    "saved = 0\n",
    "for i in range(N):\n",
    "    A = int(input())\n",
    "    saved = saved + (X-A)\n",
    "can_use = saved + X\n",
    "print(can_use)"
   ]
  },
  {
   "cell_type": "markdown",
   "metadata": {},
   "source": [
    "### Problem 2: Carrots\n",
    "\n",
    "https://open.kattis.com/problems/carrots"
   ]
  },
  {
   "cell_type": "code",
   "execution_count": null,
   "metadata": {},
   "outputs": [],
   "source": [
    "first_row = input()\n",
    "N,P = first_row.split()\n",
    "print(P)"
   ]
  },
  {
   "cell_type": "markdown",
   "metadata": {},
   "source": [
    "### Problem 3: Oddities\n",
    "\n",
    "https://open.kattis.com/problems/oddities"
   ]
  },
  {
   "cell_type": "code",
   "execution_count": null,
   "metadata": {},
   "outputs": [],
   "source": [
    "N = int(input())\n",
    "for i in range(N):\n",
    "    x = int(input())\n",
    "    if x%2 == 0:\n",
    "        print(x,'is','even')\n",
    "    else:\n",
    "        print(x,'is','odd')"
   ]
  },
  {
   "cell_type": "markdown",
   "metadata": {},
   "source": [
    "### Problem 4: Take two stones\n",
    "Detta är mitt personliga favoritproblem! \n",
    "\n",
    "https://open.kattis.com/problems/twostones"
   ]
  },
  {
   "cell_type": "code",
   "execution_count": null,
   "metadata": {},
   "outputs": [],
   "source": [
    "N = int(input())\n",
    "if N%2 == 0: \n",
    "    print('Bob')\n",
    "else:\n",
    "    print('Alice')"
   ]
  },
  {
   "cell_type": "markdown",
   "metadata": {},
   "source": [
    "## Testa lösa problem själva\n",
    "-  https://open.kattis.com/problems/fizzbuzz\n",
    "-  https://open.kattis.com/problems/r2\n",
    "-  https://open.kattis.com/problems/quadrant\n",
    "-  https://open.kattis.com/problems/lastfactorialdigit\n",
    "-  https://open.kattis.com/problems/speedlimit\n",
    "-  https://open.kattis.com/problems/zamka\n",
    "\n",
    "Det är givetvis helt okej att själv välja andra problem! Sortera gärna på svårighetsgrad och börja med några \"enkla\" problem."
   ]
  }
 ],
 "metadata": {
  "kernelspec": {
   "display_name": "Python 3",
   "language": "python",
   "name": "python3"
  },
  "language_info": {
   "codemirror_mode": {
    "name": "ipython",
    "version": 3
   },
   "file_extension": ".py",
   "mimetype": "text/x-python",
   "name": "python",
   "nbconvert_exporter": "python",
   "pygments_lexer": "ipython3",
   "version": "3.6.7"
  }
 },
 "nbformat": 4,
 "nbformat_minor": 2
}
