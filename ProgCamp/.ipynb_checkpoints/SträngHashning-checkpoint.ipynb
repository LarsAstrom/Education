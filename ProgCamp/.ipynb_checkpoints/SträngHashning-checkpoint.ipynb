{
 "cells": [
  {
   "cell_type": "markdown",
   "metadata": {},
   "source": [
    "# Stränghashning\n",
    "## Planen\n",
    "-  Vad är hashning?\n",
    "-  Hur hashar vi strängar?\n",
    "-  Varför behövs det?\n",
    "-  Testa själv"
   ]
  },
  {
   "cell_type": "markdown",
   "metadata": {},
   "source": [
    "### Vad är hashning?\n",
    "-  Hashmaps/hashsets har många hört om\n",
    "    -  Nyckel och värde\n",
    "    -  Kan på $\\mathcal{O}(1)$ hitta om nyckel finns\n",
    "-  Hashfunktion, $H$, ska uppfylla:\n",
    "    -  Enkelt(=snabbt) att beräkna $H(x)$ för alla $x$.\n",
    "    -  Kunna ta in olika längd av $x$, exempelvis olika längd på strängar\n",
    "    -  Ska ge ett värde av fix längd\n",
    "    -  Ska fördela $H(x)$ jämnt på värdemängden\n",
    "    -  Ska ha få krockar\n",
    "-  Varför ha en hashfunktion?\n",
    "    -  Hur jämför vi om två strängar är samma?\n",
    "    -  Vilken komplexitet?\n",
    "    -  Om vi kan beräkna hashen av två strängar snabbt kan det bli bättre."
   ]
  },
  {
   "cell_type": "markdown",
   "metadata": {},
   "source": [
    "### Hur hashar vi en sträng?\n",
    "-  Hur hashar vi en bokstav?\n",
    "    -  Vi mappar $H(a)=1, H(b)=2, \\ldots$\n",
    "    -  Kan använda $H(a)=0, H(b)=1, \\ldots$. \n",
    "-  Sträng, $s$, av längd $n$\n",
    "-  $H(s)=H(s_0s_1\\ldots s_{n-1})=L^{N-1}H(s_0)+L^{N-2}H(s_1)+\\ldots+LH(s_{N-2})+H(s_{N-1})$\n",
    "    -  Exempel: $H(abc)=26^2H(a)+26H(b)+H(c)=26^2\\cdot1+26\\cdot2+3=731$"
   ]
  },
  {
   "cell_type": "markdown",
   "metadata": {},
   "source": [
    "### Hur hashar vi substrängar?\n",
    "-  Problem: Finns/hur många gånger finns strängen $t$ i strängen $s$?\n",
    "    -  Låt $|t|=m$ och $|s|=n$\n",
    "    -  Beräkna hash av $t$\n",
    "    -  Beräkna hash av varje substräng av längd $|t|$ i strängen $s$.\n",
    "    -  Naivt ger $\\mathcal{O}(mn)$\n",
    "    -  Men vi kan få $\\mathcal{O}(m+n)$\n",
    "        -  Beräkna först $H(s_0s_1\\ldots s_{m-1})$. Alltså $\\mathcal{O}(m)$\n",
    "        -  Uppdatera på $\\mathcal{O}(1)$"
   ]
  },
  {
   "cell_type": "markdown",
   "metadata": {},
   "source": [
    "### Problem?\n",
    "-  Vi måste ha värdemängd av fix storlek.\n",
    "-  Om vi vill ha hash av sträng av längd 1000 så blir det ett STORT tal!\n",
    "-  Är vi körda?\n",
    "    -  Modulo något stort primtal\n",
    "    -  Kan visa att det blir (tillräckligt) bra fördelat\n",
    "        -  Vad är ett stort primtal? \n",
    "        -  Om vi har $Q$ queries ta $P\\approx Q^2$ (vid jämförelse antal unika substrängar, annars kan man ha lite mindre"
   ]
  },
  {
   "cell_type": "markdown",
   "metadata": {},
   "source": [
    "## Problem att lösa\n",
    "open.kattis.com\n",
    "-  Hashing\n",
    "-  Radio Transmittions\n",
    "-  Repeated Substrings\n",
    "-  Substrings\n",
    "-  Chasing Subs"
   ]
  }
 ],
 "metadata": {
  "kernelspec": {
   "display_name": "Python 3",
   "language": "python",
   "name": "python3"
  },
  "language_info": {
   "codemirror_mode": {
    "name": "ipython",
    "version": 3
   },
   "file_extension": ".py",
   "mimetype": "text/x-python",
   "name": "python",
   "nbconvert_exporter": "python",
   "pygments_lexer": "ipython3",
   "version": "3.6.7"
  }
 },
 "nbformat": 4,
 "nbformat_minor": 2
}
