{
 "cells": [
  {
   "cell_type": "markdown",
   "metadata": {},
   "source": [
    "# Dynamisk programmering - Jonatan Nilsson och Lars Åström\n",
    "## Planen:\n",
    "-  Vad är DP?\n",
    "-  När kan DP användas?\n",
    "-  Exempel\n",
    "-  Testa själv"
   ]
  },
  {
   "cell_type": "markdown",
   "metadata": {},
   "source": [
    "### Vad är DP?\n",
    "-  När vi har räknat ut något vill vi inte räkna ut det igen.\n",
    "-  Därför sparar vi ett resultat när vi fått det.\n",
    "-  Vardagligt exempel: Multiplikationstabellen - vi räknar inte ut det varje gång utan kommer ihåg."
   ]
  },
  {
   "cell_type": "markdown",
   "metadata": {},
   "source": [
    "#### Exempel:\n",
    "Beräkna det $n$-te Fibonacci-talet där:\n",
    "-  $n=5$\n",
    "-  $n=30$\n",
    "-  $n=100$"
   ]
  },
  {
   "cell_type": "code",
   "execution_count": null,
   "metadata": {},
   "outputs": [],
   "source": [
    "def fibonacci(n):\n",
    "    if n == 0 or n == 1: return 1\n",
    "    return fibonacci(n-1)+fibonacci(n-2)"
   ]
  },
  {
   "cell_type": "code",
   "execution_count": null,
   "metadata": {},
   "outputs": [],
   "source": [
    "fibonacci(5)"
   ]
  },
  {
   "cell_type": "code",
   "execution_count": null,
   "metadata": {},
   "outputs": [],
   "source": [
    "fibonacci(30)"
   ]
  },
  {
   "cell_type": "code",
   "execution_count": null,
   "metadata": {},
   "outputs": [],
   "source": [
    "fibonacci(100)"
   ]
  },
  {
   "cell_type": "code",
   "execution_count": null,
   "metadata": {},
   "outputs": [],
   "source": [
    "FIBONACCI = [-1]*1000\n",
    "FIBONACCI[0] = 1\n",
    "FIBONACCI[1] = 1\n",
    "def fibonacci_dp(n):\n",
    "    if FIBONACCI[n] != -1: return FIBONACCI[n]\n",
    "    FIBONACCI[n] = fibonacci_dp(n-1)+fibonacci_dp(n-2)\n",
    "    return FIBONACCI[n]"
   ]
  },
  {
   "cell_type": "code",
   "execution_count": null,
   "metadata": {},
   "outputs": [],
   "source": [
    "fibonacci_dp(5)"
   ]
  },
  {
   "cell_type": "code",
   "execution_count": null,
   "metadata": {},
   "outputs": [],
   "source": [
    "fibonacci_dp(30)"
   ]
  },
  {
   "cell_type": "code",
   "execution_count": null,
   "metadata": {},
   "outputs": [],
   "source": [
    "fibonacci_dp(100)"
   ]
  },
  {
   "cell_type": "code",
   "execution_count": null,
   "metadata": {},
   "outputs": [],
   "source": [
    "import sys\n",
    "sys.setrecursionlimit(2*10**4)\n",
    "FIBONACCI = [-1]*10001\n",
    "FIBONACCI[0] = 1\n",
    "FIBONACCI[1] = 1\n",
    "fibonacci_dp(10000)"
   ]
  },
  {
   "cell_type": "markdown",
   "metadata": {},
   "source": [
    "### När kan DP användas?\n",
    "-  Samma problem löses många gånger.\n",
    "-  Delproblemen är separerbara, alltså ett \"senare\" problem beror inte på de \"tidigare\"."
   ]
  },
  {
   "cell_type": "markdown",
   "metadata": {},
   "source": [
    "### Hur ska DP användas praktiskt?\n",
    "-  Skriv upp rekursionsekvation\n",
    "-  Vad är kanterna?\n",
    "-  Implementera ekvationen"
   ]
  },
  {
   "cell_type": "markdown",
   "metadata": {},
   "source": [
    "### Exempel: Lasta färjan\n",
    "https://po.kattis.com/problems/lastafarjan"
   ]
  },
  {
   "cell_type": "code",
   "execution_count": null,
   "metadata": {},
   "outputs": [],
   "source": [
    "N = int(input())\n",
    "L = int(input())\n",
    "bilar = list(map(int,input().split()))"
   ]
  },
  {
   "cell_type": "markdown",
   "metadata": {},
   "source": [
    "Vi vill ta bort kravet med mellanrum."
   ]
  },
  {
   "cell_type": "code",
   "execution_count": null,
   "metadata": {},
   "outputs": [],
   "source": [
    "for i in range(N): bilar[i] += 1\n",
    "L += 1"
   ]
  },
  {
   "cell_type": "markdown",
   "metadata": {},
   "source": [
    "Vi vill från summan av längderna av filerna kunna få reda på vilken som är nästa bil."
   ]
  },
  {
   "cell_type": "code",
   "execution_count": null,
   "metadata": {},
   "outputs": [],
   "source": [
    "prefix_summa = {}\n",
    "summa = 0\n",
    "for i in range(N):\n",
    "    prefix_summa[summa] = i\n",
    "    summa += bilar[i]\n",
    "prefix_summa[summa] = N"
   ]
  },
  {
   "cell_type": "markdown",
   "metadata": {},
   "source": [
    "Därefter vill vi lösa problemet. Vi skapar en DP som sparar hur många bilar som får plats, givet att vi använt ett visst antal positioner i varje rad."
   ]
  },
  {
   "cell_type": "code",
   "execution_count": null,
   "metadata": {},
   "outputs": [],
   "source": [
    "# DP[row1][row2][row3][row4] = antal bilar givet att row1,...,row4\n",
    "DP = [[[[-1]*(L+1) for _ in range(L+1)] for _ in range(L+1)] for _ in range(L+1)]\n",
    "summa = 0\n",
    "\n",
    "def solve(r1,r2,r3,r4):\n",
    "    if DP[r1][r2][r3][r4] != -1: return DP[r1][r2][r3][r4]\n",
    "    nasta_bil = prefix_summa[r1+r2+r3+r4]\n",
    "    bil_langd = bilar[nasta_bil]\n",
    "    if nasta_bil == N: return 0\n",
    "    best = 0\n",
    "    if r1+bil_langd <= L:\n",
    "        best = max(best, 1 + solve(r1+bil_langd,r2,r3,r4))\n",
    "    if r2+bil_langd <= L:\n",
    "        best = max(best, 1 + solve(r1,r2+bil_langd,r3,r4))\n",
    "    if r3+bil_langd <= L:\n",
    "        best = max(best, 1 + solve(r1,r2,r3+bil_langd,r4))\n",
    "    if r4+bil_langd <= L:\n",
    "        best = max(best, 1 + solve(r1,r2,r3,r4+bil_langd))\n",
    "    DP[r1][r2][r3][r4] = best\n",
    "    return best"
   ]
  },
  {
   "cell_type": "markdown",
   "metadata": {},
   "source": [
    "Slutligen får vi svaret genom att kolla vad $solve(0,0,0,0) är, alltså ingen plats använd i någon rad."
   ]
  },
  {
   "cell_type": "code",
   "execution_count": null,
   "metadata": {},
   "outputs": [],
   "source": [
    "print(solve(0,0,0,0))"
   ]
  },
  {
   "cell_type": "markdown",
   "metadata": {},
   "source": [
    "Komplexiteten kommer från att vi i värsta fall kommer att \"fylla i\" hela DPn. Vi fyller i varje position i DPn endast en gång, alltså är komplexiteten $\\mathcal{O}(L^4)$."
   ]
  },
  {
   "cell_type": "markdown",
   "metadata": {},
   "source": [
    "### Exempel: Månresor\n",
    "https://pofinal19.kattis.com/problems/pofinal19.manresor/sv"
   ]
  },
  {
   "cell_type": "markdown",
   "metadata": {},
   "source": [
    "För att lösa problemet ska vi lösa delproblemen hur mycket kostar det att göra resorna $i,i+1,\\ldots,N$."
   ]
  },
  {
   "cell_type": "markdown",
   "metadata": {},
   "source": [
    "När vi har löst det för dessa kan vi lösa för resorna $i-1,i,i+1,\\ldots,N$. Detta gör vi genom att testa alla biljetter att köpa. Vi köper antingen biljett den dagen som vi reser $d_{i-1}$, eller på den senaste rabattdagen innan $d_{i-1}$."
   ]
  },
  {
   "cell_type": "markdown",
   "metadata": {},
   "source": [
    "Alltså får vi $$DP[\\text{resa}]=\\text{Minsta kostnad för resorna från och med resa}.$$"
   ]
  },
  {
   "cell_type": "markdown",
   "metadata": {},
   "source": [
    "Kolla följande:\n",
    "-  Gäller biljetten för alla resterande resor -> Specialfall.\n",
    "-  Om vi köper med rabatt måste biljetten i varje fall gälla till och med dagen resan sker."
   ]
  },
  {
   "cell_type": "markdown",
   "metadata": {},
   "source": [
    "UPSOLVE, UPSOLVE, UPSOLVE!!!"
   ]
  },
  {
   "cell_type": "markdown",
   "metadata": {},
   "source": [
    "### Problemlösning!\n",
    "open.kattis.com\n",
    "-  Balanced Diet\n",
    "-  Tri Tiling\n",
    "-  Generalized Recursive Functions\n",
    "-  Canonical\n",
    "-  Bitcoin Toss\n",
    "-  Train Sorting\n",
    "-  Debugging"
   ]
  }
 ],
 "metadata": {
  "kernelspec": {
   "display_name": "Python 3",
   "language": "python",
   "name": "python3"
  },
  "language_info": {
   "codemirror_mode": {
    "name": "ipython",
    "version": 3
   },
   "file_extension": ".py",
   "mimetype": "text/x-python",
   "name": "python",
   "nbconvert_exporter": "python",
   "pygments_lexer": "ipython3",
   "version": "3.6.7"
  }
 },
 "nbformat": 4,
 "nbformat_minor": 2
}
