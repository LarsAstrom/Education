{
 "cells": [
  {
   "cell_type": "markdown",
   "metadata": {},
   "source": [
    "# BitmaskDP - Jonatan Nilsson och Lars Åström\n",
    "## Planen \n",
    "-  Vad är BitmaskDP?\n",
    "-  Exempel\n",
    "-  Testa själv"
   ]
  },
  {
   "cell_type": "markdown",
   "metadata": {},
   "source": [
    "### Vad är BitmaskDP?\n",
    "-  Ibland vill vi veta mer om tidigare tillstånd.\n",
    "-  Exempelvis: Vilka noder har vi varit i.\n",
    "-  Sparas som binärt tal: 011001 = 25 betyder att vi varit i nod 1, 2 och 5.\n",
    "-  Används för att göra om $\\mathcal{O}(N!)$ till $\\mathcal{O}(2^n)$"
   ]
  },
  {
   "cell_type": "markdown",
   "metadata": {},
   "source": [
    "### Exempel: Travelling Salesman\n",
    "Känt problem. En person vill resa enligt en simple path i en oriktad viktad graf. Vi vill minimera längden på pathen."
   ]
  },
  {
   "cell_type": "code",
   "execution_count": null,
   "metadata": {},
   "outputs": [],
   "source": [
    "INF = 10**20\n",
    "DP = {}\n",
    "def solve(bitmask, nod):\n",
    "    if bitmask == 2**antal_noder-1: #Vi har besökt alla noder.\n",
    "        return 0\n",
    "    if (bitmask,nod) in DP: #Vi har besökt denna noden med denna bitmasken tidigare.\n",
    "        return DP[(bitmask,nod)]\n",
    "    minimal_kostnad = INF\n",
    "    for granne, vikt in kanter[nod]:\n",
    "        if bitmask & (1<<granne): continue #Vi har redan varit i grann-noden, då får vi inte gå dit igen.\n",
    "        möjlig_kostnad = vikt + solve(bitmask + (1<<granne), granne)\n",
    "        minimal_kostnad = min(minimal_kostnad, möjlig_kostnad)\n",
    "    DP[(bitmask,nod)] = minimal_kostnad"
   ]
  },
  {
   "cell_type": "markdown",
   "metadata": {},
   "source": [
    "### Problem\n",
    "https://boi18-day2.kattis.com/problems/boi18.paths\n",
    "\n",
    "open.kattis.com\n",
    "-  Pebble Solitaire\n",
    "-  Pebble Solitaire 2\n",
    "-  Bean Bag\n",
    "-  Safe Passage\n",
    "-  Font\n",
    "-  Pokemon Go Go"
   ]
  }
 ],
 "metadata": {
  "kernelspec": {
   "display_name": "Python 3",
   "language": "python",
   "name": "python3"
  },
  "language_info": {
   "codemirror_mode": {
    "name": "ipython",
    "version": 3
   },
   "file_extension": ".py",
   "mimetype": "text/x-python",
   "name": "python",
   "nbconvert_exporter": "python",
   "pygments_lexer": "ipython3",
   "version": "3.6.7"
  }
 },
 "nbformat": 4,
 "nbformat_minor": 2
}
